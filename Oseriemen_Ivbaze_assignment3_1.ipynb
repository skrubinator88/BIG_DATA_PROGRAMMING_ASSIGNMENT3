{
 "cells": [
  {
   "cell_type": "code",
   "execution_count": null,
   "metadata": {},
   "outputs": [],
   "source": [
    "import sqlite3\n",
    "from sqlite3 import Error\n",
    "\n",
    "conn = None\n",
    "\n",
    "try:\n",
    "    conn = sqlite3.connect(\"database.sqlite\")\n",
    "    cursor = conn.cursor()\n",
    "    \n",
    "    #question 2\n",
    "    cursor.execute('SELECT DISTINCT c.name, l.name, SUM(m.home_team_goal + m.away_team_goal) \\\n",
    "    FROM Country c,\\\n",
    "    League l,\\\n",
    "    Match m\\\n",
    "    WHERE l.country_id=c.id\\\n",
    "    AND m.league_id = l.id\\\n",
    "    GROUP BY c.name\\\n",
    "    ORDER BY SUM(m.home_team_goal + m.away_team_goal) DESC')\n",
    "    matches = cursor.fetchall()\n",
    "    for match in matches:\n",
    "        print(match[0] + \"|\" + match[1] + \"|\" + str(match[2]))\n",
    "        \n",
    "except Error as err: \n",
    "    print(err)"
   ]
  }
 ],
 "metadata": {
  "kernelspec": {
   "display_name": "Python 3",
   "language": "python",
   "name": "python3"
  },
  "language_info": {
   "codemirror_mode": {
    "name": "ipython",
    "version": 3
   },
   "file_extension": ".py",
   "mimetype": "text/x-python",
   "name": "python",
   "nbconvert_exporter": "python",
   "pygments_lexer": "ipython3",
   "version": "3.7.3"
  }
 },
 "nbformat": 4,
 "nbformat_minor": 2
}
