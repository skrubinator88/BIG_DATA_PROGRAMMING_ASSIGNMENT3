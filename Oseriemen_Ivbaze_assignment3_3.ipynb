{
 "cells": [
  {
   "cell_type": "code",
   "execution_count": null,
   "metadata": {},
   "outputs": [],
   "source": [
    "import sqlite3\n",
    "from sqlite3 import Error\n",
    "\n",
    "conn = None\n",
    "\n",
    "try:\n",
    "    conn = sqlite3.connect(\"database.sqlite\")\n",
    "    cursor = conn.cursor()\n",
    "    \n",
    "    #question 4\n",
    "    cursor.execute('SELECT DISTINCT t.team_long_name, AVG(ta.buildUpPlaySpeed+\\\n",
    "    ta.buildUpPlayPassing+\\\n",
    "    ta.chanceCreationPassing+\\\n",
    "    ta.chanceCreationCrossing+\\\n",
    "    ta.chanceCreationShooting+\\\n",
    "    ta.defencePressure+\\\n",
    "    ta.defenceAggression+\\\n",
    "    ta.defenceTeamWidth)/8 as average\\\n",
    "    FROM Team t, Team_Attributes ta\\\n",
    "    WHERE ta.team_api_id=t.team_api_id\\\n",
    "    GROUP BY t.team_long_name\\\n",
    "    ORDER BY average ASC')\n",
    "    \n",
    "    teams = cursor.fetchall()\n",
    "    for team in teams:\n",
    "        print(team[0] + \" | \" + \"N/A\" + \" | \" + str(team[1]))\n",
    "    \n",
    "except Error as err: \n",
    "    print(err)"
   ]
  }
 ],
 "metadata": {
  "kernelspec": {
   "display_name": "Python 3",
   "language": "python",
   "name": "python3"
  },
  "language_info": {
   "codemirror_mode": {
    "name": "ipython",
    "version": 3
   },
   "file_extension": ".py",
   "mimetype": "text/x-python",
   "name": "python",
   "nbconvert_exporter": "python",
   "pygments_lexer": "ipython3",
   "version": "3.7.3"
  }
 },
 "nbformat": 4,
 "nbformat_minor": 2
}
