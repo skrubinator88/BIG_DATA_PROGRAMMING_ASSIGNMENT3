{
 "cells": [
  {
   "cell_type": "code",
   "execution_count": 135,
   "metadata": {},
   "outputs": [],
   "source": [
    "import sqlite3\n",
    "from sqlite3 import Error\n",
    "\n",
    "conn = None\n",
    "\n",
    "try:\n",
    "    conn = sqlite3.connect(\"database.sqlite\")\n",
    "    cursor = conn.cursor()\n",
    "    \n",
    "    #question 1\n",
    "    cursor.execute(\"SELECT player_name, birthday FROM PLAYER ORDER BY birthday ASC\")\n",
    "    players = cursor.fetchall()\n",
    "    \n",
    "    for player in players:\n",
    "        birthyear = int(player[1].split(\"-\")[0])\n",
    "        if birthyear >= 1987 and birthyear <= 1990:\n",
    "            print(player[0] + \" | \" + player[1].split(\" \")[0])    \n",
    "\n",
    "except Error as err: \n",
    "    print(err)"
   ]
  },
  {
   "cell_type": "code",
   "execution_count": null,
   "metadata": {},
   "outputs": [],
   "source": []
  },
  {
   "cell_type": "code",
   "execution_count": null,
   "metadata": {},
   "outputs": [],
   "source": []
  },
  {
   "cell_type": "code",
   "execution_count": null,
   "metadata": {},
   "outputs": [],
   "source": []
  }
 ],
 "metadata": {
  "kernelspec": {
   "display_name": "Python 3",
   "language": "python",
   "name": "python3"
  },
  "language_info": {
   "codemirror_mode": {
    "name": "ipython",
    "version": 3
   },
   "file_extension": ".py",
   "mimetype": "text/x-python",
   "name": "python",
   "nbconvert_exporter": "python",
   "pygments_lexer": "ipython3",
   "version": "3.7.3"
  }
 },
 "nbformat": 4,
 "nbformat_minor": 2
}
