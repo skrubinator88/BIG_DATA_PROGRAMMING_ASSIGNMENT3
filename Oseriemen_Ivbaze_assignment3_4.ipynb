{
 "cells": [
  {
   "cell_type": "code",
   "execution_count": 1,
   "metadata": {},
   "outputs": [],
   "source": [
    "import sqlite3\n",
    "from sqlite3 import Error\n",
    "\n",
    "conn = None\n",
    "\n",
    "try:\n",
    "    conn = sqlite3.connect(\"database.sqlite\")\n",
    "    cursor = conn.cursor()\n",
    "\n",
    "    #question 5\n",
    "    cursor.execute('SELECT DISTINCT l.name, MAX(m.home_team_goal + m.away_team_goal), m.season, m.date \\\n",
    "    FROM League l,\\\n",
    "    Match m\\\n",
    "    WHERE m.league_id=l.id\\\n",
    "    GROUP BY l.name')\n",
    "    leagues = cursor.fetchall()\n",
    "    for league in leagues:\n",
    "        fulldate = league[3].split(\" \")[0]\n",
    "        formatted_date = fulldate.split(\"-\")[2] + \"/\" + fulldate.split(\"-\")[1] + \"/\" + fulldate.split(\"-\")[0]\n",
    "        print(str(formatted_date) + \" | \" + str(league[2]) + \" | \" + league[0] + \" | \" + str(league[1]))\n",
    "except Error as err: \n",
    "    print(err)"
   ]
  },
  {
   "cell_type": "code",
   "execution_count": null,
   "metadata": {},
   "outputs": [],
   "source": []
  }
 ],
 "metadata": {
  "kernelspec": {
   "display_name": "Python 3",
   "language": "python",
   "name": "python3"
  },
  "language_info": {
   "codemirror_mode": {
    "name": "ipython",
    "version": 3
   },
   "file_extension": ".py",
   "mimetype": "text/x-python",
   "name": "python",
   "nbconvert_exporter": "python",
   "pygments_lexer": "ipython3",
   "version": "3.7.3"
  }
 },
 "nbformat": 4,
 "nbformat_minor": 2
}
